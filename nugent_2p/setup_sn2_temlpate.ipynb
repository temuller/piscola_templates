{
 "cells": [
  {
   "cell_type": "markdown",
   "id": "76bdad4e-81da-404d-b117-3f5df514d0b4",
   "metadata": {},
   "source": [
    "# SN II Template"
   ]
  },
  {
   "cell_type": "code",
   "execution_count": 1,
   "id": "0b5b5a6d-6720-4d9c-94eb-a9a80a5a203f",
   "metadata": {
    "execution": {
     "iopub.execute_input": "2023-06-06T10:49:19.328652Z",
     "iopub.status.busy": "2023-06-06T10:49:19.328260Z",
     "iopub.status.idle": "2023-06-06T10:49:20.261688Z",
     "shell.execute_reply": "2023-06-06T10:49:20.260817Z",
     "shell.execute_reply.started": "2023-06-06T10:49:19.328586Z"
    },
    "tags": []
   },
   "outputs": [],
   "source": [
    "import os\n",
    "import glob\n",
    "import numpy as np\n",
    "import pandas as pd\n",
    "import matplotlib.pyplot as plt\n",
    "\n",
    "import piscola\n",
    "\n",
    "columns = ['phase', 'wave', 'flux']\n",
    "sed_df = pd.read_csv('sn2p_flux.v1.2.dat', names=columns, delim_whitespace=True)"
   ]
  },
  {
   "cell_type": "markdown",
   "id": "e4205386-7487-4707-b5c2-c9c1af3ca636",
   "metadata": {},
   "source": [
    "Template from: https://c3.lbl.gov/nugent/nugent_templates.html"
   ]
  },
  {
   "cell_type": "markdown",
   "id": "9a138e25-ba37-47ee-890b-4eab74e0b0e0",
   "metadata": {},
   "source": [
    "## SED template\n",
    "\n",
    "This SN II SED template has phases with respect to explosion epoch "
   ]
  },
  {
   "cell_type": "code",
   "execution_count": 2,
   "id": "c509f5a5-9e49-4570-ae25-d3030b9846d6",
   "metadata": {
    "execution": {
     "iopub.execute_input": "2023-06-06T10:49:20.263700Z",
     "iopub.status.busy": "2023-06-06T10:49:20.263438Z",
     "iopub.status.idle": "2023-06-06T10:49:20.379020Z",
     "shell.execute_reply": "2023-06-06T10:49:20.377704Z",
     "shell.execute_reply.started": "2023-06-06T10:49:20.263675Z"
    },
    "tags": []
   },
   "outputs": [
    {
     "data": {
      "text/html": [
       "<div>\n",
       "<style scoped>\n",
       "    .dataframe tbody tr th:only-of-type {\n",
       "        vertical-align: middle;\n",
       "    }\n",
       "\n",
       "    .dataframe tbody tr th {\n",
       "        vertical-align: top;\n",
       "    }\n",
       "\n",
       "    .dataframe thead th {\n",
       "        text-align: right;\n",
       "    }\n",
       "</style>\n",
       "<table border=\"1\" class=\"dataframe\">\n",
       "  <thead>\n",
       "    <tr style=\"text-align: right;\">\n",
       "      <th></th>\n",
       "      <th>phase</th>\n",
       "      <th>wave</th>\n",
       "      <th>flux</th>\n",
       "    </tr>\n",
       "  </thead>\n",
       "  <tbody>\n",
       "    <tr>\n",
       "      <th>0</th>\n",
       "      <td>0.0</td>\n",
       "      <td>1000.0</td>\n",
       "      <td>4.126516e-18</td>\n",
       "    </tr>\n",
       "    <tr>\n",
       "      <th>1</th>\n",
       "      <td>0.0</td>\n",
       "      <td>1010.0</td>\n",
       "      <td>4.157482e-18</td>\n",
       "    </tr>\n",
       "    <tr>\n",
       "      <th>2</th>\n",
       "      <td>0.0</td>\n",
       "      <td>1020.0</td>\n",
       "      <td>4.186074e-18</td>\n",
       "    </tr>\n",
       "    <tr>\n",
       "      <th>3</th>\n",
       "      <td>0.0</td>\n",
       "      <td>1030.0</td>\n",
       "      <td>4.212346e-18</td>\n",
       "    </tr>\n",
       "    <tr>\n",
       "      <th>4</th>\n",
       "      <td>0.0</td>\n",
       "      <td>1040.0</td>\n",
       "      <td>4.236339e-18</td>\n",
       "    </tr>\n",
       "  </tbody>\n",
       "</table>\n",
       "</div>"
      ],
      "text/plain": [
       "   phase    wave          flux\n",
       "0    0.0  1000.0  4.126516e-18\n",
       "1    0.0  1010.0  4.157482e-18\n",
       "2    0.0  1020.0  4.186074e-18\n",
       "3    0.0  1030.0  4.212346e-18\n",
       "4    0.0  1040.0  4.236339e-18"
      ]
     },
     "execution_count": 2,
     "metadata": {},
     "output_type": "execute_result"
    },
    {
     "data": {
      "image/png": "[encoded data removed]",
      "text/plain": [
       "<Figure size 432x288 with 1 Axes>"
      ]
     },
     "metadata": {
      "needs_background": "light"
     },
     "output_type": "display_data"
    }
   ],
   "source": [
    "phase_df = sed_df[sed_df.phase==16]\n",
    "plt.plot(phase_df.wave, phase_df.flux);\n",
    "sed_df.head()"
   ]
  },
  {
   "cell_type": "markdown",
   "id": "c1d4c89f-dcda-4a9b-9868-77b6897b4b28",
   "metadata": {},
   "source": [
    "## B-band peak\n",
    "\n",
    "Let's get offset of the template phase to estimate a new phase with respect to B-band peak"
   ]
  },
  {
   "cell_type": "code",
   "execution_count": 4,
   "id": "1e73acbb-98db-4056-b137-77eb64b66467",
   "metadata": {
    "execution": {
     "iopub.execute_input": "2023-06-06T10:49:45.141620Z",
     "iopub.status.busy": "2023-06-06T10:49:45.140953Z",
     "iopub.status.idle": "2023-06-06T10:49:45.153942Z",
     "shell.execute_reply": "2023-06-06T10:49:45.153120Z",
     "shell.execute_reply.started": "2023-06-06T10:49:45.141598Z"
    },
    "tags": []
   },
   "outputs": [],
   "source": [
    "Bessell_B = piscola.filters_class.SingleFilter('Bessell_B', 'VEGA')\n",
    "\n",
    "fluxes_B = []\n",
    "for phase in sed_df.phase.unique():\n",
    "    phase_df = sed_df[sed_df.phase==phase]\n",
    "    flux = Bessell_B.integrate_filter(phase_df.wave.values, phase_df.flux.values)\n",
    "    fluxes_B.append(flux)\n",
    "fluxes_B = np.array(fluxes_B)"
   ]
  },
  {
   "cell_type": "code",
   "execution_count": 5,
   "id": "df3a7a78-260e-44d6-b358-156e50c117f8",
   "metadata": {
    "execution": {
     "iopub.execute_input": "2023-06-06T10:49:46.241058Z",
     "iopub.status.busy": "2023-06-06T10:49:46.240773Z",
     "iopub.status.idle": "2023-06-06T10:49:46.335734Z",
     "shell.execute_reply": "2023-06-06T10:49:46.335198Z",
     "shell.execute_reply.started": "2023-06-06T10:49:46.241036Z"
    },
    "tags": []
   },
   "outputs": [
    {
     "data": {
      "text/plain": [
       "(0.0, 150.0)"
      ]
     },
     "execution_count": 5,
     "metadata": {},
     "output_type": "execute_result"
    },
    {
     "data": {
      "image/png": "[encoded data removed]",
      "text/plain": [
       "<Figure size 432x288 with 1 Axes>"
      ]
     },
     "metadata": {
      "needs_background": "light"
     },
     "output_type": "display_data"
    }
   ],
   "source": [
    "plt.plot(sed_df.phase.unique(), -2.5*np.log10(fluxes_B))\n",
    "plt.gca().invert_yaxis()\n",
    "plt.title('B-band light curve')\n",
    "plt.xlim(0, 150)"
   ]
  },
  {
   "cell_type": "code",
   "execution_count": 6,
   "id": "fcf80cf9-8471-489e-a751-0038ebf144bc",
   "metadata": {
    "execution": {
     "iopub.execute_input": "2023-06-06T10:49:46.836456Z",
     "iopub.status.busy": "2023-06-06T10:49:46.836091Z",
     "iopub.status.idle": "2023-06-06T10:49:46.843250Z",
     "shell.execute_reply": "2023-06-06T10:49:46.842132Z",
     "shell.execute_reply.started": "2023-06-06T10:49:46.836429Z"
    },
    "tags": []
   },
   "outputs": [
    {
     "data": {
      "text/plain": [
       "11.0"
      ]
     },
     "execution_count": 6,
     "metadata": {},
     "output_type": "execute_result"
    }
   ],
   "source": [
    "peak_id = np.argmax(fluxes_B)\n",
    "peak_offset = sed_df.phase.unique()[peak_id]\n",
    "peak_offset"
   ]
  },
  {
   "cell_type": "markdown",
   "id": "40ffbd5d-4c21-4045-90c7-2a16cac3d1f2",
   "metadata": {},
   "source": [
    "## Interpolate SED"
   ]
  },
  {
   "cell_type": "code",
   "execution_count": 7,
   "id": "cc24bb57-0395-4d26-9eec-95a69cd56a83",
   "metadata": {
    "execution": {
     "iopub.execute_input": "2023-06-06T10:49:50.615474Z",
     "iopub.status.busy": "2023-06-06T10:49:50.615175Z",
     "iopub.status.idle": "2023-06-06T10:49:54.746614Z",
     "shell.execute_reply": "2023-06-06T10:49:54.746136Z",
     "shell.execute_reply.started": "2023-06-06T10:49:50.615451Z"
    },
    "tags": []
   },
   "outputs": [],
   "source": [
    "interp_dict = {'phase':np.empty(0),\n",
    "               'wave':np.empty(0),\n",
    "               'flux':np.empty(0),\n",
    "              }\n",
    "\n",
    "waves = sed_df.wave.unique()\n",
    "phases = sed_df.phase.unique()\n",
    "interp_phases = np.arange(0, 200)\n",
    "\n",
    "for wave in waves:\n",
    "    lc_df = sed_df[sed_df.wave==wave]\n",
    "    lc_phase, lc_flux = lc_df.phase.values, lc_df.flux.values\n",
    "    interp_flux = np.interp(interp_phases, lc_phase, lc_flux)\n",
    "    \n",
    "    interp_wave = np.array([wave]*len(interp_phases))\n",
    "    interp_dict['phase'] = np.append(interp_dict['phase'], interp_phases)\n",
    "    interp_dict['wave'] = np.append(interp_dict['wave'], interp_wave)\n",
    "    interp_dict['flux'] = np.append(interp_dict['flux'], interp_flux)\n",
    "    \n",
    "interp_df = pd.DataFrame(interp_dict)\n",
    "interp_df.sort_values(['phase', 'wave'], inplace=True)\n",
    "# apply offset to phase to have epochs with respect to B-band peak\n",
    "# instead of epochs with respect to explosion epoch\n",
    "interp_df.phase = interp_df.phase.values - peak_offset"
   ]
  },
  {
   "cell_type": "code",
   "execution_count": 8,
   "id": "da63f163-6c9c-4456-ba89-3817ba43358c",
   "metadata": {
    "execution": {
     "iopub.execute_input": "2023-06-06T10:49:54.747554Z",
     "iopub.status.busy": "2023-06-06T10:49:54.747399Z",
     "iopub.status.idle": "2023-06-06T10:49:54.849885Z",
     "shell.execute_reply": "2023-06-06T10:49:54.849377Z",
     "shell.execute_reply.started": "2023-06-06T10:49:54.747540Z"
    },
    "tags": []
   },
   "outputs": [
    {
     "data": {
      "text/html": [
       "<div>\n",
       "<style scoped>\n",
       "    .dataframe tbody tr th:only-of-type {\n",
       "        vertical-align: middle;\n",
       "    }\n",
       "\n",
       "    .dataframe tbody tr th {\n",
       "        vertical-align: top;\n",
       "    }\n",
       "\n",
       "    .dataframe thead th {\n",
       "        text-align: right;\n",
       "    }\n",
       "</style>\n",
       "<table border=\"1\" class=\"dataframe\">\n",
       "  <thead>\n",
       "    <tr style=\"text-align: right;\">\n",
       "      <th></th>\n",
       "      <th>phase</th>\n",
       "      <th>wave</th>\n",
       "      <th>flux</th>\n",
       "    </tr>\n",
       "  </thead>\n",
       "  <tbody>\n",
       "    <tr>\n",
       "      <th>0</th>\n",
       "      <td>-11.0</td>\n",
       "      <td>1000.0</td>\n",
       "      <td>4.126516e-18</td>\n",
       "    </tr>\n",
       "    <tr>\n",
       "      <th>200</th>\n",
       "      <td>-11.0</td>\n",
       "      <td>1010.0</td>\n",
       "      <td>4.157482e-18</td>\n",
       "    </tr>\n",
       "    <tr>\n",
       "      <th>400</th>\n",
       "      <td>-11.0</td>\n",
       "      <td>1020.0</td>\n",
       "      <td>4.186074e-18</td>\n",
       "    </tr>\n",
       "    <tr>\n",
       "      <th>600</th>\n",
       "      <td>-11.0</td>\n",
       "      <td>1030.0</td>\n",
       "      <td>4.212346e-18</td>\n",
       "    </tr>\n",
       "    <tr>\n",
       "      <th>800</th>\n",
       "      <td>-11.0</td>\n",
       "      <td>1040.0</td>\n",
       "      <td>4.236339e-18</td>\n",
       "    </tr>\n",
       "  </tbody>\n",
       "</table>\n",
       "</div>"
      ],
      "text/plain": [
       "     phase    wave          flux\n",
       "0    -11.0  1000.0  4.126516e-18\n",
       "200  -11.0  1010.0  4.157482e-18\n",
       "400  -11.0  1020.0  4.186074e-18\n",
       "600  -11.0  1030.0  4.212346e-18\n",
       "800  -11.0  1040.0  4.236339e-18"
      ]
     },
     "execution_count": 8,
     "metadata": {},
     "output_type": "execute_result"
    },
    {
     "data": {
      "image/png": "[encoded data removed]",
      "text/plain": [
       "<Figure size 432x288 with 1 Axes>"
      ]
     },
     "metadata": {
      "needs_background": "light"
     },
     "output_type": "display_data"
    }
   ],
   "source": [
    "phase_df = interp_df[interp_df.phase==20]\n",
    "plt.plot(phase_df.wave, phase_df.flux);\n",
    "interp_df.head()"
   ]
  },
  {
   "cell_type": "markdown",
   "id": "fea3d28c-1076-4d80-a54e-708b4a1cb142",
   "metadata": {},
   "source": [
    "## Output\n",
    "\n",
    "Save the template for PISCOLA to read and create a README file"
   ]
  },
  {
   "cell_type": "code",
   "execution_count": 10,
   "id": "20033c25-d3e9-4073-b519-3423d59219d2",
   "metadata": {
    "execution": {
     "iopub.execute_input": "2023-06-06T10:56:56.738651Z",
     "iopub.status.busy": "2023-06-06T10:56:56.738356Z",
     "iopub.status.idle": "2023-06-06T10:56:57.578274Z",
     "shell.execute_reply": "2023-06-06T10:56:57.577734Z",
     "shell.execute_reply.started": "2023-06-06T10:56:56.738632Z"
    },
    "tags": []
   },
   "outputs": [],
   "source": [
    "interp_df.to_csv('sed_template.dat', index=False, sep='\\t', header=False)"
   ]
  },
  {
   "cell_type": "code",
   "execution_count": 39,
   "id": "619e56e0-8d13-468b-8010-bab4a903fc83",
   "metadata": {
    "execution": {
     "iopub.execute_input": "2023-02-28T14:37:15.460264Z",
     "iopub.status.busy": "2023-02-28T14:37:15.459888Z",
     "iopub.status.idle": "2023-02-28T14:37:15.464137Z",
     "shell.execute_reply": "2023-02-28T14:37:15.463445Z",
     "shell.execute_reply.started": "2023-02-28T14:37:15.460240Z"
    },
    "tags": []
   },
   "outputs": [],
   "source": [
    "readme = \"\"\"This template is a modified version of the Nugent SN IIp template\n",
    "taken from https://c3.lbl.gov/nugent/nugent_templates.html.\n",
    "\n",
    "The original template is linearly interpolated in time and\n",
    "the phases are shifted such that the Bessell-B-band light-curve\n",
    "peak is taken as phase 0 (zero).\n",
    "\"\"\""
   ]
  },
  {
   "cell_type": "code",
   "execution_count": 40,
   "id": "3c6b59b0-6638-4f37-a1ba-2aaa85f7116f",
   "metadata": {
    "execution": {
     "iopub.execute_input": "2023-02-28T14:37:15.616169Z",
     "iopub.status.busy": "2023-02-28T14:37:15.615825Z",
     "iopub.status.idle": "2023-02-28T14:37:15.620583Z",
     "shell.execute_reply": "2023-02-28T14:37:15.619508Z",
     "shell.execute_reply.started": "2023-02-28T14:37:15.616147Z"
    },
    "tags": []
   },
   "outputs": [],
   "source": [
    "with open('README.txt', 'w') as file:\n",
    "    file.write(readme)"
   ]
  },
  {
   "cell_type": "code",
   "execution_count": null,
   "id": "ac25143e-ebf8-422f-a4da-d39a293c9368",
   "metadata": {},
   "outputs": [],
   "source": []
  }
 ],
 "metadata": {
  "kernelspec": {
   "display_name": "Python 3 (ipykernel)",
   "language": "python",
   "name": "python3"
  },
  "language_info": {
   "codemirror_mode": {
    "name": "ipython",
    "version": 3
   },
   "file_extension": ".py",
   "mimetype": "text/x-python",
   "name": "python",
   "nbconvert_exporter": "python",
   "pygments_lexer": "ipython3",
   "version": "3.10.4"
  }
 },
 "nbformat": 4,
 "nbformat_minor": 5
}
