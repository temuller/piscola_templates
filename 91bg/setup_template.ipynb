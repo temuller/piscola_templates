{
 "cells": [
  {
   "cell_type": "code",
   "execution_count": 23,
   "id": "cd860b8c-726a-4e39-9eec-86e5ac4485ce",
   "metadata": {
    "execution": {
     "iopub.execute_input": "2024-04-19T14:07:43.813689Z",
     "iopub.status.busy": "2024-04-19T14:07:43.813273Z",
     "iopub.status.idle": "2024-04-19T14:07:43.818534Z",
     "shell.execute_reply": "2024-04-19T14:07:43.817680Z",
     "shell.execute_reply.started": "2024-04-19T14:07:43.813657Z"
    },
    "tags": []
   },
   "outputs": [],
   "source": [
    "import numpy as np\n",
    "import pandas as pd\n",
    "import matplotlib.pyplot as plt\n",
    "\n",
    "import piscola\n",
    "from astropy.io import fits"
   ]
  },
  {
   "cell_type": "code",
   "execution_count": 27,
   "id": "cae116d9-4eb4-46d6-9722-218290c6fce8",
   "metadata": {
    "execution": {
     "iopub.execute_input": "2024-04-19T14:09:27.411036Z",
     "iopub.status.busy": "2024-04-19T14:09:27.410673Z",
     "iopub.status.idle": "2024-04-19T14:09:27.418911Z",
     "shell.execute_reply": "2024-04-19T14:09:27.418265Z",
     "shell.execute_reply.started": "2024-04-19T14:09:27.411003Z"
    },
    "tags": []
   },
   "outputs": [],
   "source": [
    "hdu = fits.open(\"../../snpy/snpy/typeIa/Nugent_91bg_SED.fits\")\n",
    "phases = np.arange(-13, 61, 1).astype(int)  # by construction\n",
    "sed_fluxes = hdu[0].data\n",
    "header = hdu[0].header\n",
    "wavelengths = header['CRVAL1'] + (np.arange(header['NAXIS1'], dtype=np.float64) - header['CRPIX1'] + 1) * header['CDELT1']"
   ]
  },
  {
   "cell_type": "code",
   "execution_count": 28,
   "id": "f590d6be-f8be-478f-bc2e-d655406cba2a",
   "metadata": {
    "execution": {
     "iopub.execute_input": "2024-04-19T14:09:27.838244Z",
     "iopub.status.busy": "2024-04-19T14:09:27.838012Z",
     "iopub.status.idle": "2024-04-19T14:09:28.783732Z",
     "shell.execute_reply": "2024-04-19T14:09:28.782809Z",
     "shell.execute_reply.started": "2024-04-19T14:09:27.838222Z"
    },
    "tags": []
   },
   "outputs": [],
   "source": [
    "sed_dict = {'phase':[], 'wave':[], 'flux':[]}\n",
    "for i, phase in enumerate(phases):\n",
    "    if phase < -10:\n",
    "        continue\n",
    "    fluxes = sed_fluxes[i]\n",
    "    sed_dict['phase'] =  sed_dict['phase'] + [phase] * len(fluxes)\n",
    "    sed_dict['wave'] =  sed_dict['wave'] + list(wavelengths)\n",
    "    sed_dict['flux'] =  sed_dict['flux'] + list(fluxes)\n",
    "sed_df = pd.DataFrame(sed_dict)\n",
    "sed_df.astype(float).to_csv('sed_template.dat', sep='\\t', index=False, header=False)"
   ]
  },
  {
   "cell_type": "code",
   "execution_count": 26,
   "id": "02aa2264-d8c4-4208-ae08-3662870c4d4f",
   "metadata": {
    "execution": {
     "iopub.execute_input": "2024-04-19T14:07:45.286257Z",
     "iopub.status.busy": "2024-04-19T14:07:45.286088Z",
     "iopub.status.idle": "2024-04-19T14:07:45.290667Z",
     "shell.execute_reply": "2024-04-19T14:07:45.289700Z",
     "shell.execute_reply.started": "2024-04-19T14:07:45.286243Z"
    },
    "tags": []
   },
   "outputs": [],
   "source": [
    "with open('README.txt', 'w') as file:\n",
    "    file.write(\"1991bg-like SN Ia template taken from SNooPy (Nugent 91bg template).\")"
   ]
  },
  {
   "cell_type": "code",
   "execution_count": 20,
   "id": "15a581d0-85b4-4908-8819-58049fb1a613",
   "metadata": {
    "execution": {
     "iopub.execute_input": "2024-04-19T14:02:01.203830Z",
     "iopub.status.busy": "2024-04-19T14:02:01.203593Z",
     "iopub.status.idle": "2024-04-19T14:02:06.799300Z",
     "shell.execute_reply": "2024-04-19T14:02:06.798710Z",
     "shell.execute_reply.started": "2024-04-19T14:02:01.203817Z"
    },
    "tags": []
   },
   "outputs": [],
   "source": [
    "interp_dict = {'phase':np.empty(0),\n",
    "               'wave':np.empty(0),\n",
    "               'flux':np.empty(0),\n",
    "              }\n",
    "\n",
    "waves = sed_df.wave.unique()\n",
    "phases = sed_df.phase.unique()\n",
    "interp_phases = np.arange(-13, 60.1, 0.1)\n",
    "\n",
    "for wave in waves:\n",
    "    lc_df = sed_df[sed_df.wave==wave]\n",
    "    lc_phase, lc_flux = lc_df.phase.values, lc_df.flux.values\n",
    "    interp_flux = np.interp(interp_phases, lc_phase, lc_flux)\n",
    "    \n",
    "    interp_wave = np.array([wave]*len(interp_phases))\n",
    "    interp_dict['phase'] = np.append(interp_dict['phase'], interp_phases)\n",
    "    interp_dict['wave'] = np.append(interp_dict['wave'], interp_wave)\n",
    "    interp_dict['flux'] = np.append(interp_dict['flux'], interp_flux)\n",
    "    \n",
    "interp_df = pd.DataFrame(interp_dict)\n",
    "interp_df.sort_values(['phase', 'wave'], inplace=True)\n",
    "\n",
    "# apply offset to phase to have epochs with respect to B-band peak\n",
    "Bessell_B = piscola.filters_class.SingleFilter('Bessell_B', 'VEGA')\n",
    "\n",
    "fluxes_B = []\n",
    "for phase in interp_df.phase.unique():\n",
    "    phase_df = interp_df[interp_df.phase==phase]\n",
    "    flux = Bessell_B.integrate_filter(phase_df.wave.values, phase_df.flux.values)\n",
    "    fluxes_B.append(flux)\n",
    "fluxes_B = np.array(fluxes_B)\n",
    "\n",
    "peak_id = np.argmax(fluxes_B)\n",
    "peak_offset = interp_df.phase.unique()[peak_id]\n",
    "\n",
    "interp_df.phase = interp_df.phase.values - peak_offset"
   ]
  },
  {
   "cell_type": "code",
   "execution_count": 22,
   "id": "f20b797c-5b3f-429a-b3f0-9caa057ee9c1",
   "metadata": {
    "execution": {
     "iopub.execute_input": "2024-04-19T14:02:20.874497Z",
     "iopub.status.busy": "2024-04-19T14:02:20.874208Z",
     "iopub.status.idle": "2024-04-19T14:02:20.877552Z",
     "shell.execute_reply": "2024-04-19T14:02:20.877156Z",
     "shell.execute_reply.started": "2024-04-19T14:02:20.874485Z"
    },
    "tags": []
   },
   "outputs": [
    {
     "data": {
      "text/plain": [
       "-4.618527782440651e-14"
      ]
     },
     "execution_count": 22,
     "metadata": {},
     "output_type": "execute_result"
    }
   ],
   "source": [
    "peak_offset"
   ]
  },
  {
   "cell_type": "code",
   "execution_count": null,
   "id": "75588902-bca3-448b-bc9b-0867f76d4880",
   "metadata": {},
   "outputs": [],
   "source": []
  }
 ],
 "metadata": {
  "kernelspec": {
   "display_name": "Python 3 (ipykernel)",
   "language": "python",
   "name": "python3"
  },
  "language_info": {
   "codemirror_mode": {
    "name": "ipython",
    "version": 3
   },
   "file_extension": ".py",
   "mimetype": "text/x-python",
   "name": "python",
   "nbconvert_exporter": "python",
   "pygments_lexer": "ipython3",
   "version": "3.9.16"
  }
 },
 "nbformat": 4,
 "nbformat_minor": 5
}
