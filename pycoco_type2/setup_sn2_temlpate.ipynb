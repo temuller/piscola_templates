{
 "cells": [
  {
   "cell_type": "markdown",
   "id": "76bdad4e-81da-404d-b117-3f5df514d0b4",
   "metadata": {},
   "source": [
    "# SN II Template\n",
    "\n",
    "Template from: https://github.com/maria-vincenzi/PyCoCo_templates/tree/master/Templates_HostCorrected\n",
    "\n",
    "SN 2013by has a good **SN II** template"
   ]
  },
  {
   "cell_type": "code",
   "execution_count": 1,
   "id": "0b5b5a6d-6720-4d9c-94eb-a9a80a5a203f",
   "metadata": {
    "execution": {
     "iopub.execute_input": "2023-06-06T10:51:09.197556Z",
     "iopub.status.busy": "2023-06-06T10:51:09.197272Z",
     "iopub.status.idle": "2023-06-06T10:51:10.120668Z",
     "shell.execute_reply": "2023-06-06T10:51:10.120029Z",
     "shell.execute_reply.started": "2023-06-06T10:51:09.197501Z"
    },
    "tags": []
   },
   "outputs": [],
   "source": [
    "import os\n",
    "import glob\n",
    "import numpy as np\n",
    "import pandas as pd\n",
    "import matplotlib.pyplot as plt\n",
    "\n",
    "import piscola\n",
    "\n",
    "columns = ['phase', 'wave', 'flux']\n",
    "name = '2013by'\n",
    "sed_df = pd.read_csv(f'pycoco_SN{name}.SED', names=columns, delim_whitespace=True, comment='#')"
   ]
  },
  {
   "cell_type": "markdown",
   "id": "9a138e25-ba37-47ee-890b-4eab74e0b0e0",
   "metadata": {},
   "source": [
    "## SED template\n",
    "\n",
    "This SN II SED template has phases with respect to explosion epoch "
   ]
  },
  {
   "cell_type": "code",
   "execution_count": 2,
   "id": "c509f5a5-9e49-4570-ae25-d3030b9846d6",
   "metadata": {
    "execution": {
     "iopub.execute_input": "2023-06-06T10:51:10.121722Z",
     "iopub.status.busy": "2023-06-06T10:51:10.121576Z",
     "iopub.status.idle": "2023-06-06T10:51:10.224427Z",
     "shell.execute_reply": "2023-06-06T10:51:10.223628Z",
     "shell.execute_reply.started": "2023-06-06T10:51:10.121709Z"
    },
    "tags": []
   },
   "outputs": [
    {
     "data": {
      "text/html": [
       "<div>\n",
       "<style scoped>\n",
       "    .dataframe tbody tr th:only-of-type {\n",
       "        vertical-align: middle;\n",
       "    }\n",
       "\n",
       "    .dataframe tbody tr th {\n",
       "        vertical-align: top;\n",
       "    }\n",
       "\n",
       "    .dataframe thead th {\n",
       "        text-align: right;\n",
       "    }\n",
       "</style>\n",
       "<table border=\"1\" class=\"dataframe\">\n",
       "  <thead>\n",
       "    <tr style=\"text-align: right;\">\n",
       "      <th></th>\n",
       "      <th>phase</th>\n",
       "      <th>wave</th>\n",
       "      <th>flux</th>\n",
       "    </tr>\n",
       "  </thead>\n",
       "  <tbody>\n",
       "    <tr>\n",
       "      <th>0</th>\n",
       "      <td>-9.28</td>\n",
       "      <td>1605.0</td>\n",
       "      <td>0.143</td>\n",
       "    </tr>\n",
       "    <tr>\n",
       "      <th>1</th>\n",
       "      <td>-9.28</td>\n",
       "      <td>1610.0</td>\n",
       "      <td>0.144</td>\n",
       "    </tr>\n",
       "    <tr>\n",
       "      <th>2</th>\n",
       "      <td>-9.28</td>\n",
       "      <td>1615.0</td>\n",
       "      <td>0.145</td>\n",
       "    </tr>\n",
       "    <tr>\n",
       "      <th>3</th>\n",
       "      <td>-9.28</td>\n",
       "      <td>1620.0</td>\n",
       "      <td>0.146</td>\n",
       "    </tr>\n",
       "    <tr>\n",
       "      <th>4</th>\n",
       "      <td>-9.28</td>\n",
       "      <td>1625.0</td>\n",
       "      <td>0.147</td>\n",
       "    </tr>\n",
       "  </tbody>\n",
       "</table>\n",
       "</div>"
      ],
      "text/plain": [
       "   phase    wave   flux\n",
       "0  -9.28  1605.0  0.143\n",
       "1  -9.28  1610.0  0.144\n",
       "2  -9.28  1615.0  0.145\n",
       "3  -9.28  1620.0  0.146\n",
       "4  -9.28  1625.0  0.147"
      ]
     },
     "execution_count": 2,
     "metadata": {},
     "output_type": "execute_result"
    },
    {
     "data": {
      "image/png": "[encoded data removed]",
      "text/plain": [
       "<Figure size 432x288 with 1 Axes>"
      ]
     },
     "metadata": {
      "needs_background": "light"
     },
     "output_type": "display_data"
    }
   ],
   "source": [
    "phase_df = sed_df[sed_df.phase==sed_df.phase.values[16]]\n",
    "plt.plot(phase_df.wave, phase_df.flux);\n",
    "sed_df.head()"
   ]
  },
  {
   "cell_type": "markdown",
   "id": "c1d4c89f-dcda-4a9b-9868-77b6897b4b28",
   "metadata": {},
   "source": [
    "## B-band peak\n",
    "\n",
    "Let's get offset of the template phase to estimate a new phase with respect to B-band peak"
   ]
  },
  {
   "cell_type": "code",
   "execution_count": 3,
   "id": "1e73acbb-98db-4056-b137-77eb64b66467",
   "metadata": {
    "execution": {
     "iopub.execute_input": "2023-06-06T10:51:15.977984Z",
     "iopub.status.busy": "2023-06-06T10:51:15.977665Z",
     "iopub.status.idle": "2023-06-06T10:51:16.044508Z",
     "shell.execute_reply": "2023-06-06T10:51:16.043975Z",
     "shell.execute_reply.started": "2023-06-06T10:51:15.977959Z"
    },
    "tags": []
   },
   "outputs": [],
   "source": [
    "Bessell_B = piscola.filters_class.SingleFilter('Bessell_B', 'VEGA')\n",
    "\n",
    "fluxes_B = []\n",
    "for phase in sed_df.phase.unique():\n",
    "    phase_df = sed_df[sed_df.phase==phase]\n",
    "    flux = Bessell_B.integrate_filter(phase_df.wave.values, phase_df.flux.values)\n",
    "    fluxes_B.append(flux)\n",
    "fluxes_B = np.array(fluxes_B)"
   ]
  },
  {
   "cell_type": "code",
   "execution_count": 4,
   "id": "df3a7a78-260e-44d6-b358-156e50c117f8",
   "metadata": {
    "execution": {
     "iopub.execute_input": "2023-06-06T10:51:17.091202Z",
     "iopub.status.busy": "2023-06-06T10:51:17.090950Z",
     "iopub.status.idle": "2023-06-06T10:51:17.189480Z",
     "shell.execute_reply": "2023-06-06T10:51:17.188306Z",
     "shell.execute_reply.started": "2023-06-06T10:51:17.091178Z"
    },
    "tags": []
   },
   "outputs": [
    {
     "data": {
      "text/plain": [
       "(-15.0, 150.0)"
      ]
     },
     "execution_count": 4,
     "metadata": {},
     "output_type": "execute_result"
    },
    {
     "data": {
      "image/png": "[encoded data removed]",
      "text/plain": [
       "<Figure size 432x288 with 1 Axes>"
      ]
     },
     "metadata": {
      "needs_background": "light"
     },
     "output_type": "display_data"
    }
   ],
   "source": [
    "plt.plot(sed_df.phase.unique(), -2.5*np.log10(fluxes_B))\n",
    "plt.gca().invert_yaxis()\n",
    "plt.title('B-band light curve')\n",
    "plt.xlim(-15, 150)"
   ]
  },
  {
   "cell_type": "code",
   "execution_count": 5,
   "id": "fcf80cf9-8471-489e-a751-0038ebf144bc",
   "metadata": {
    "execution": {
     "iopub.execute_input": "2023-06-06T10:51:19.829320Z",
     "iopub.status.busy": "2023-06-06T10:51:19.829070Z",
     "iopub.status.idle": "2023-06-06T10:51:19.838247Z",
     "shell.execute_reply": "2023-06-06T10:51:19.837059Z",
     "shell.execute_reply.started": "2023-06-06T10:51:19.829303Z"
    },
    "tags": []
   },
   "outputs": [
    {
     "data": {
      "text/plain": [
       "-4.0"
      ]
     },
     "execution_count": 5,
     "metadata": {},
     "output_type": "execute_result"
    }
   ],
   "source": [
    "peak_id = np.argmax(fluxes_B)\n",
    "peak_offset = sed_df.phase.unique()[peak_id]\n",
    "peak_offset"
   ]
  },
  {
   "cell_type": "markdown",
   "id": "40ffbd5d-4c21-4045-90c7-2a16cac3d1f2",
   "metadata": {},
   "source": [
    "## Interpolate SED"
   ]
  },
  {
   "cell_type": "code",
   "execution_count": 6,
   "id": "cc24bb57-0395-4d26-9eec-95a69cd56a83",
   "metadata": {
    "execution": {
     "iopub.execute_input": "2023-06-06T10:51:20.298213Z",
     "iopub.status.busy": "2023-06-06T10:51:20.297909Z",
     "iopub.status.idle": "2023-06-06T10:51:21.574836Z",
     "shell.execute_reply": "2023-06-06T10:51:21.573953Z",
     "shell.execute_reply.started": "2023-06-06T10:51:20.298190Z"
    },
    "tags": []
   },
   "outputs": [],
   "source": [
    "interp_dict = {'phase':np.empty(0),\n",
    "               'wave':np.empty(0),\n",
    "               'flux':np.empty(0),\n",
    "              }\n",
    "\n",
    "waves = sed_df.wave.unique()\n",
    "phases = sed_df.phase.unique()\n",
    "interp_phases = np.arange(0, 200)\n",
    "\n",
    "for wave in waves:\n",
    "    lc_df = sed_df[sed_df.wave==wave]\n",
    "    lc_phase, lc_flux = lc_df.phase.values, lc_df.flux.values\n",
    "    interp_flux = np.interp(interp_phases, lc_phase, lc_flux)\n",
    "    \n",
    "    interp_wave = np.array([wave]*len(interp_phases))\n",
    "    interp_dict['phase'] = np.append(interp_dict['phase'], interp_phases)\n",
    "    interp_dict['wave'] = np.append(interp_dict['wave'], interp_wave)\n",
    "    interp_dict['flux'] = np.append(interp_dict['flux'], interp_flux)\n",
    "    \n",
    "interp_df = pd.DataFrame(interp_dict)\n",
    "interp_df.sort_values(['phase', 'wave'], inplace=True)\n",
    "# apply offset to phase to have epochs with respect to B-band peak\n",
    "# instead of epochs with respect to explosion epoch\n",
    "interp_df.phase = interp_df.phase.values - peak_offset"
   ]
  },
  {
   "cell_type": "code",
   "execution_count": 7,
   "id": "da63f163-6c9c-4456-ba89-3817ba43358c",
   "metadata": {
    "execution": {
     "iopub.execute_input": "2023-06-06T10:51:21.575980Z",
     "iopub.status.busy": "2023-06-06T10:51:21.575827Z",
     "iopub.status.idle": "2023-06-06T10:51:21.669550Z",
     "shell.execute_reply": "2023-06-06T10:51:21.668960Z",
     "shell.execute_reply.started": "2023-06-06T10:51:21.575966Z"
    },
    "tags": []
   },
   "outputs": [
    {
     "data": {
      "text/html": [
       "<div>\n",
       "<style scoped>\n",
       "    .dataframe tbody tr th:only-of-type {\n",
       "        vertical-align: middle;\n",
       "    }\n",
       "\n",
       "    .dataframe tbody tr th {\n",
       "        vertical-align: top;\n",
       "    }\n",
       "\n",
       "    .dataframe thead th {\n",
       "        text-align: right;\n",
       "    }\n",
       "</style>\n",
       "<table border=\"1\" class=\"dataframe\">\n",
       "  <thead>\n",
       "    <tr style=\"text-align: right;\">\n",
       "      <th></th>\n",
       "      <th>phase</th>\n",
       "      <th>wave</th>\n",
       "      <th>flux</th>\n",
       "    </tr>\n",
       "  </thead>\n",
       "  <tbody>\n",
       "    <tr>\n",
       "      <th>0</th>\n",
       "      <td>4.0</td>\n",
       "      <td>1605.0</td>\n",
       "      <td>0.135</td>\n",
       "    </tr>\n",
       "    <tr>\n",
       "      <th>200</th>\n",
       "      <td>4.0</td>\n",
       "      <td>1610.0</td>\n",
       "      <td>0.135</td>\n",
       "    </tr>\n",
       "    <tr>\n",
       "      <th>400</th>\n",
       "      <td>4.0</td>\n",
       "      <td>1615.0</td>\n",
       "      <td>0.136</td>\n",
       "    </tr>\n",
       "    <tr>\n",
       "      <th>600</th>\n",
       "      <td>4.0</td>\n",
       "      <td>1620.0</td>\n",
       "      <td>0.136</td>\n",
       "    </tr>\n",
       "    <tr>\n",
       "      <th>800</th>\n",
       "      <td>4.0</td>\n",
       "      <td>1625.0</td>\n",
       "      <td>0.136</td>\n",
       "    </tr>\n",
       "  </tbody>\n",
       "</table>\n",
       "</div>"
      ],
      "text/plain": [
       "     phase    wave   flux\n",
       "0      4.0  1605.0  0.135\n",
       "200    4.0  1610.0  0.135\n",
       "400    4.0  1615.0  0.136\n",
       "600    4.0  1620.0  0.136\n",
       "800    4.0  1625.0  0.136"
      ]
     },
     "execution_count": 7,
     "metadata": {},
     "output_type": "execute_result"
    },
    {
     "data": {
      "image/png": "[encoded data removed]",
      "text/plain": [
       "<Figure size 432x288 with 1 Axes>"
      ]
     },
     "metadata": {
      "needs_background": "light"
     },
     "output_type": "display_data"
    }
   ],
   "source": [
    "phase_df = interp_df[interp_df.phase==20]\n",
    "plt.plot(phase_df.wave, phase_df.flux);\n",
    "interp_df.head()"
   ]
  },
  {
   "cell_type": "markdown",
   "id": "fea3d28c-1076-4d80-a54e-708b4a1cb142",
   "metadata": {},
   "source": [
    "## Output\n",
    "\n",
    "Save the template for PISCOLA to read and create a README file"
   ]
  },
  {
   "cell_type": "code",
   "execution_count": 11,
   "id": "1a4549df-b14c-4e89-989d-a5f4396987b2",
   "metadata": {
    "execution": {
     "iopub.execute_input": "2023-06-06T10:53:23.540034Z",
     "iopub.status.busy": "2023-06-06T10:53:23.539722Z",
     "iopub.status.idle": "2023-06-06T10:53:23.549856Z",
     "shell.execute_reply": "2023-06-06T10:53:23.548890Z",
     "shell.execute_reply.started": "2023-06-06T10:53:23.540014Z"
    },
    "tags": []
   },
   "outputs": [
    {
     "data": {
      "text/plain": [
       "(0           4.0\n",
       " 200         4.0\n",
       " 400         4.0\n",
       " 600         4.0\n",
       " 800         4.0\n",
       "           ...  \n",
       " 375199    203.0\n",
       " 375399    203.0\n",
       " 375599    203.0\n",
       " 375799    203.0\n",
       " 375999    203.0\n",
       " Name: phase, Length: 376000, dtype: float64,\n",
       " 0          1605.0\n",
       " 200        1610.0\n",
       " 400        1615.0\n",
       " 600        1620.0\n",
       " 800        1625.0\n",
       "            ...   \n",
       " 375199    10980.0\n",
       " 375399    10985.0\n",
       " 375599    10990.0\n",
       " 375799    10995.0\n",
       " 375999    11000.0\n",
       " Name: wave, Length: 376000, dtype: float64,\n",
       " 0         1.350000e-01\n",
       " 200       1.350000e-01\n",
       " 400       1.360000e-01\n",
       " 600       1.360000e-01\n",
       " 800       1.360000e-01\n",
       "               ...     \n",
       " 375199    1.000000e-12\n",
       " 375399    1.000000e-12\n",
       " 375599    1.000000e-12\n",
       " 375799    1.000000e-12\n",
       " 375999    1.000000e-12\n",
       " Name: flux, Length: 376000, dtype: float64)"
      ]
     },
     "execution_count": 11,
     "metadata": {},
     "output_type": "execute_result"
    }
   ],
   "source": [
    "interp_df.phase, interp_df.wave, interp_df.flux"
   ]
  },
  {
   "cell_type": "code",
   "execution_count": 12,
   "id": "20033c25-d3e9-4073-b519-3423d59219d2",
   "metadata": {
    "execution": {
     "iopub.execute_input": "2023-06-06T10:57:01.624652Z",
     "iopub.status.busy": "2023-06-06T10:57:01.624394Z",
     "iopub.status.idle": "2023-06-06T10:57:02.402065Z",
     "shell.execute_reply": "2023-06-06T10:57:02.401108Z",
     "shell.execute_reply.started": "2023-06-06T10:57:01.624635Z"
    },
    "tags": []
   },
   "outputs": [],
   "source": [
    "interp_df.to_csv('sed_template.dat', index=False, sep='\\t', header=False)"
   ]
  },
  {
   "cell_type": "code",
   "execution_count": 9,
   "id": "619e56e0-8d13-468b-8010-bab4a903fc83",
   "metadata": {
    "execution": {
     "iopub.execute_input": "2023-02-28T15:08:03.196131Z",
     "iopub.status.busy": "2023-02-28T15:08:03.195844Z",
     "iopub.status.idle": "2023-02-28T15:08:03.198892Z",
     "shell.execute_reply": "2023-02-28T15:08:03.198461Z",
     "shell.execute_reply.started": "2023-02-28T15:08:03.196112Z"
    },
    "tags": []
   },
   "outputs": [],
   "source": [
    "readme = f\"\"\"This template is a modified version of the PyCoCo SN II {name} template\n",
    "taken from https://github.com/maria-vincenzi/PyCoCo_templates/tree/master/Templates_HostCorrected.\n",
    "\n",
    "The original template is linearly interpolated in time and\n",
    "the phases are shifted such that the Bessell-B-band light-curve\n",
    "peak is taken as phase 0 (zero).\n",
    "\"\"\""
   ]
  },
  {
   "cell_type": "code",
   "execution_count": 10,
   "id": "3c6b59b0-6638-4f37-a1ba-2aaa85f7116f",
   "metadata": {
    "execution": {
     "iopub.execute_input": "2023-02-28T15:08:03.199631Z",
     "iopub.status.busy": "2023-02-28T15:08:03.199462Z",
     "iopub.status.idle": "2023-02-28T15:08:03.205736Z",
     "shell.execute_reply": "2023-02-28T15:08:03.205279Z",
     "shell.execute_reply.started": "2023-02-28T15:08:03.199616Z"
    },
    "tags": []
   },
   "outputs": [],
   "source": [
    "with open('README.txt', 'w') as file:\n",
    "    file.write(readme)"
   ]
  },
  {
   "cell_type": "code",
   "execution_count": null,
   "id": "ac25143e-ebf8-422f-a4da-d39a293c9368",
   "metadata": {},
   "outputs": [],
   "source": []
  }
 ],
 "metadata": {
  "kernelspec": {
   "display_name": "Python 3 (ipykernel)",
   "language": "python",
   "name": "python3"
  },
  "language_info": {
   "codemirror_mode": {
    "name": "ipython",
    "version": 3
   },
   "file_extension": ".py",
   "mimetype": "text/x-python",
   "name": "python",
   "nbconvert_exporter": "python",
   "pygments_lexer": "ipython3",
   "version": "3.10.4"
  }
 },
 "nbformat": 4,
 "nbformat_minor": 5
}
